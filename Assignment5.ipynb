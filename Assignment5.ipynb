{
 "cells": [
  {
   "cell_type": "code",
   "execution_count": 22,
   "id": "fe0e4516",
   "metadata": {},
   "outputs": [
    {
     "name": "stdout",
     "output_type": "stream",
     "text": [
      "Enter first number:17\n",
      "Enter second number:19\n",
      "LCM is -  323\n"
     ]
    }
   ],
   "source": [
    "# Find the LCM of two numbers.\n",
    "num1 = int(input(\"Enter first number:\"))\n",
    "num2 = int(input(\"Enter second number:\"))\n",
    "if(num1 > num2):\n",
    "    if(num1 % num2 == 0):\n",
    "        print(\"LCM is:\", num1)\n",
    "    else:\n",
    "        big1 = num1\n",
    "        for i in range(1, num1 * num2 + 1):\n",
    "            big1 += 1\n",
    "            if(big1 % num1 == 0 and big1 % num2 == 0):\n",
    "                print(\"LCM is - \", big1)\n",
    "                break\n",
    "else:\n",
    "    if(num2 % num1 == 0):\n",
    "        print(\"LCM is: \", num2)\n",
    "    else:\n",
    "        big2 = num1\n",
    "        for i in range(1, num1 * num2 + 1):\n",
    "            big2 += 1\n",
    "            if(big2 % num1 == 0 and big2 % num2 == 0):\n",
    "                print(\"LCM is - \", big2)\n",
    "                break"
   ]
  },
  {
   "cell_type": "code",
   "execution_count": 30,
   "id": "f5ebe46f",
   "metadata": {},
   "outputs": [
    {
     "name": "stdout",
     "output_type": "stream",
     "text": [
      "Enter first number:123\n",
      "Enter second number:44\n",
      "HCF is: 1\n"
     ]
    }
   ],
   "source": [
    "# Find the HCF of two numbers.\n",
    "num1 = int(input(\"Enter first number:\"))\n",
    "num2 = int(input(\"Enter second number:\"))\n",
    "if(num1 > num2):\n",
    "    if(num1 % num2 == 0):\n",
    "        print(\"HCF is: \", num2)\n",
    "    else:\n",
    "        low1 = num2\n",
    "        for i in range(num2, 0, -1):\n",
    "            low1 -= 1\n",
    "            if(num1 % low1 == 0 and num2 % low1 == 0):\n",
    "                print(\"HCF is:\", low1)\n",
    "                break\n",
    "else:\n",
    "    if(num2 % num1 == 0):\n",
    "        print(\"HCF is: \", num1)\n",
    "    else:\n",
    "        low2 = num1\n",
    "        for i in range(num1, 0, -1):\n",
    "            low2 -= 1\n",
    "            if(num1 % low2 == 0 and num2 % low2 ==0):\n",
    "                print(\"HCF is:\", low2)\n",
    "                break"
   ]
  },
  {
   "cell_type": "code",
   "execution_count": null,
   "id": "80504318",
   "metadata": {},
   "outputs": [],
   "source": [
    "# Find a third way to swap two values.\n",
    "a = 10\n",
    "b = 20\n",
    "print(\"The values of a and b before swapping are:\", a, b, \" respectively\")\n",
    "a = a + b # a = 30\n",
    "b = a - b # b = 10\n",
    "a = a - b # a = 20\n",
    "print(\"The values of a and b after swapping are:\", a, b)"
   ]
  }
 ],
 "metadata": {
  "kernelspec": {
   "display_name": "Python 3 (ipykernel)",
   "language": "python",
   "name": "python3"
  },
  "language_info": {
   "codemirror_mode": {
    "name": "ipython",
    "version": 3
   },
   "file_extension": ".py",
   "mimetype": "text/x-python",
   "name": "python",
   "nbconvert_exporter": "python",
   "pygments_lexer": "ipython3",
   "version": "3.10.9"
  }
 },
 "nbformat": 4,
 "nbformat_minor": 5
}
