{
 "cells": [
  {
   "cell_type": "code",
   "execution_count": 1,
   "id": "ba228a9e",
   "metadata": {},
   "outputs": [
    {
     "name": "stdout",
     "output_type": "stream",
     "text": [
      "Enter the string:Poornima\n",
      "{'P': 1, 'o': 2, 'r': 1, 'n': 1, 'i': 1, 'm': 1, 'a': 1}\n"
     ]
    }
   ],
   "source": [
    "# Take an input from the user and count each character and put it into the dictionary.\n",
    "string = input(\"Enter the string:\")\n",
    "count = {}\n",
    "for var in string:\n",
    "    if var in count:\n",
    "        count[var] = count[var] + 1\n",
    "    else:\n",
    "        count[var] = 1\n",
    "print(count)"
   ]
  },
  {
   "cell_type": "code",
   "execution_count": 1,
   "id": "f9408b63",
   "metadata": {},
   "outputs": [
    {
     "name": "stdout",
     "output_type": "stream",
     "text": [
      "Enter the string:ABEtyi21hC!\n",
      "A - P found\n",
      "A - P found\n",
      "A - P found\n",
      "c - z found\n",
      "c - z found\n",
      "c - z found\n",
      "0 - 9 found\n",
      "0 - 9 found\n",
      "c - z found\n",
      "A - P found\n",
      "@, # or ! found\n"
     ]
    }
   ],
   "source": [
    "# Take user input and check whether there is at least one character from A - P, one character from c - z, number from 0 - 9 and at least one character out of #, @, !. (Hint ASCII value)\n",
    "string = input(\"Enter the string:\")\n",
    "for var in string:\n",
    "    if(ord(var) >= 65 and ord(var) <= 80):\n",
    "        print(\"A - P found\")\n",
    "    elif(ord(var) >= 99 and ord(var)<= 122):\n",
    "        print(\"c - z found\")\n",
    "    elif(ord(var) >= 48 and ord(var) <= 57):\n",
    "        print(\"0 - 9 found\")\n",
    "    elif(ord(var) == 33 or ord(var) == 35 or ord(var) == 64):\n",
    "        print(\"@, # or ! found\")"
   ]
  },
  {
   "cell_type": "code",
   "execution_count": 20,
   "id": "e768fa29",
   "metadata": {},
   "outputs": [
    {
     "name": "stdout",
     "output_type": "stream",
     "text": [
      "   *\n",
      "  ***\n",
      " *****\n",
      "*******\n"
     ]
    }
   ],
   "source": [
    "# Print the pattern\n",
    "'''\n",
    "   *\n",
    "  ***\n",
    " *****\n",
    "*******\n",
    "'''\n",
    "num = 4\n",
    "for row in range(1, num + 1):\n",
    "    for col in range(1, num + 1 -row):\n",
    "        print(\" \", end = '')\n",
    "    for i in range(1, row * 2):\n",
    "        print(\"*\", end = '')\n",
    "    print()"
   ]
  },
  {
   "cell_type": "code",
   "execution_count": 22,
   "id": "da95f1cd",
   "metadata": {},
   "outputs": [
    {
     "name": "stdout",
     "output_type": "stream",
     "text": [
      "  *\n",
      " **\n",
      "***\n"
     ]
    }
   ],
   "source": [
    "# Print the pattern\n",
    "'''\n",
    "  *\n",
    " **\n",
    "***\n",
    "'''\n",
    "for row in range(1, 4):\n",
    "    for col in range(1, 4 - row):\n",
    "        print(\" \", end = '')\n",
    "    for i in range(1, row + 1):\n",
    "        print(\"*\", end = '')\n",
    "    print()"
   ]
  },
  {
   "cell_type": "code",
   "execution_count": null,
   "id": "371427d5",
   "metadata": {},
   "outputs": [],
   "source": []
  }
 ],
 "metadata": {
  "kernelspec": {
   "display_name": "Python 3 (ipykernel)",
   "language": "python",
   "name": "python3"
  },
  "language_info": {
   "codemirror_mode": {
    "name": "ipython",
    "version": 3
   },
   "file_extension": ".py",
   "mimetype": "text/x-python",
   "name": "python",
   "nbconvert_exporter": "python",
   "pygments_lexer": "ipython3",
   "version": "3.10.9"
  }
 },
 "nbformat": 4,
 "nbformat_minor": 5
}
