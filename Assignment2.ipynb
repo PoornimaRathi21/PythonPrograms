{
 "cells": [
  {
   "cell_type": "code",
   "execution_count": 8,
   "id": "e43ef984",
   "metadata": {},
   "outputs": [
    {
     "name": "stdout",
     "output_type": "stream",
     "text": [
      "Enter a string:NAMAN\n",
      "It is a palindrome\n"
     ]
    }
   ],
   "source": [
    "# Find if a string is a palindrome or not using for loop.\n",
    "name = input(\"Enter a string:\")\n",
    "var = ''\n",
    "for index in name:\n",
    "    var = index + var\n",
    "if(name == var):\n",
    "    print(\"It is a palindrome\")\n",
    "else:\n",
    "    print(\"It is not a palindrome\")"
   ]
  },
  {
   "cell_type": "code",
   "execution_count": 9,
   "id": "11f9cf34",
   "metadata": {},
   "outputs": [
    {
     "name": "stdout",
     "output_type": "stream",
     "text": [
      "Enter the string:Australia\n",
      "5\n"
     ]
    }
   ],
   "source": [
    "# Take an input from user and count the total No. of vowels.\n",
    "string = input(\"Enter the string:\")\n",
    "count = 0 \n",
    "for index in string:\n",
    "    if(index == 'a' or index == 'e' or index == 'i' or index == 'o' or index == 'u' or index == 'A' or index == 'E' or index == 'I' or index == 'O' or index == 'U'):\n",
    "        count += 1\n",
    "print(count)"
   ]
  },
  {
   "cell_type": "code",
   "execution_count": 10,
   "id": "44a7622f",
   "metadata": {},
   "outputs": [
    {
     "name": "stdout",
     "output_type": "stream",
     "text": [
      "Enter the string:AbgOopiI\n",
      "0\n",
      "0\n",
      "1\n",
      "1\n",
      "0\n",
      "1\n",
      "0\n",
      "1\n",
      "1\n",
      "0\n"
     ]
    }
   ],
   "source": [
    "# Take an input from the user and count the No. of individual vowels.\n",
    "string = input(\"Enter the string:\")\n",
    "count1 = 0\n",
    "count2 = 0\n",
    "count3 = 0\n",
    "count4 = 0\n",
    "count5 = 0\n",
    "count6 = 0\n",
    "count7 = 0\n",
    "count8 = 0\n",
    "count9 = 0\n",
    "count10 = 0\n",
    "for index in string:\n",
    "    if(index == 'a'):\n",
    "        count1 += 1\n",
    "    if(index == 'e'):\n",
    "        count2 += 1\n",
    "    if(index == 'i'):\n",
    "        count3 += 1\n",
    "    if(index == 'o'):\n",
    "        count4 += 1\n",
    "    if(index == 'u'):\n",
    "        count5 += 1\n",
    "    if(index == 'A'):\n",
    "        count6 += 1\n",
    "    if(index == 'E'):\n",
    "        count7 += 1\n",
    "    if(index == 'I'):\n",
    "        count8 += 1\n",
    "    if(index == 'O'):\n",
    "        count9 += 1\n",
    "    if(index == 'U'):\n",
    "        count10 += 1\n",
    "print(count1)\n",
    "print(count2)\n",
    "print(count3)\n",
    "print(count4)\n",
    "print(count5)\n",
    "print(count6)\n",
    "print(count7)\n",
    "print(count8)\n",
    "print(count9)\n",
    "print(count10)"
   ]
  },
  {
   "cell_type": "code",
   "execution_count": 7,
   "id": "15e8642f",
   "metadata": {},
   "outputs": [
    {
     "name": "stdout",
     "output_type": "stream",
     "text": [
      "Enter the string:America\n",
      "#m#r#c#\n"
     ]
    }
   ],
   "source": [
    "# Take an input from the user and wherever you get a vowel, replace it with #.\n",
    "string = input(\"Enter the string:\")\n",
    "for index in string:\n",
    "    if(index == 'a' or index == 'e' or index == 'i' or index == 'o' or index == 'u' or index == 'A' or index == 'E' or index == 'I' or index == 'O' or index == 'U'):\n",
    "        string = string.replace(index, '#')\n",
    "print(string)"
   ]
  },
  {
   "cell_type": "code",
   "execution_count": null,
   "id": "090e96bd",
   "metadata": {},
   "outputs": [],
   "source": [
    "# Take an input from the user. If the input is a str, then get all the unique words from the input.\n",
    "string = input(\"Enter a string:\")\n"
   ]
  }
 ],
 "metadata": {
  "kernelspec": {
   "display_name": "Python 3 (ipykernel)",
   "language": "python",
   "name": "python3"
  },
  "language_info": {
   "codemirror_mode": {
    "name": "ipython",
    "version": 3
   },
   "file_extension": ".py",
   "mimetype": "text/x-python",
   "name": "python",
   "nbconvert_exporter": "python",
   "pygments_lexer": "ipython3",
   "version": "3.10.9"
  }
 },
 "nbformat": 4,
 "nbformat_minor": 5
}
