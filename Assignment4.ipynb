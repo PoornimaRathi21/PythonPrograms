{
 "cells": [
  {
   "cell_type": "code",
   "execution_count": 1,
   "id": "53f1ddf5",
   "metadata": {},
   "outputs": [
    {
     "name": "stdout",
     "output_type": "stream",
     "text": [
      "10Hi20User"
     ]
    }
   ],
   "source": [
    "# Print the data in set again in the string.\n",
    "newSet = set({'Hi', 'User', 10, 20, 10})\n",
    "type(newSet)\n",
    "for val in newSet:\n",
    "    print(val, end = '')    "
   ]
  },
  {
   "cell_type": "code",
   "execution_count": 2,
   "id": "d6d55a94",
   "metadata": {},
   "outputs": [
    {
     "name": "stdout",
     "output_type": "stream",
     "text": [
      "*\n",
      "**\n",
      "***\n",
      "****\n",
      "***\n",
      "**\n",
      "*\n"
     ]
    }
   ],
   "source": [
    "# Print following the pattern\n",
    "'''\n",
    "*\n",
    "**\n",
    "***\n",
    "****\n",
    "***\n",
    "**\n",
    "*\n",
    "'''\n",
    "mid = 4\n",
    "for row in range(3, 5):\n",
    "    if(row == mid):\n",
    "        for i in range(row, 0, -1):\n",
    "            for j in range(i, 0, -1):\n",
    "                print(\"*\", end = '')\n",
    "            print()\n",
    "    else:\n",
    "        for k in range(1, 4):\n",
    "            for l in range(1, k + 1):\n",
    "                print(\"*\", end = '')\n",
    "            print()"
   ]
  },
  {
   "cell_type": "code",
   "execution_count": 19,
   "id": "ce8ae5f2",
   "metadata": {},
   "outputs": [
    {
     "name": "stdout",
     "output_type": "stream",
     "text": [
      "\n",
      "* * * * \n",
      "*     * \n",
      "*     * \n",
      "* * * * "
     ]
    }
   ],
   "source": [
    "# print the following pattern\n",
    "'''\n",
    "* * * *\n",
    "*     *\n",
    "*     *\n",
    "* * * *\n",
    "'''\n",
    "n = 4\n",
    "for row in range(1, n + 1):\n",
    "    print()\n",
    "    for col in range(1, n + 1):\n",
    "        if(row == 1 or row == n):\n",
    "            print(\"* \", end = '')\n",
    "        else:\n",
    "            if(col == 1 or col == n):\n",
    "                print(\"* \", end = '')\n",
    "            else:\n",
    "                print(\"  \", end = '')"
   ]
  },
  {
   "cell_type": "code",
   "execution_count": 9,
   "id": "b94b346c",
   "metadata": {},
   "outputs": [
    {
     "name": "stdout",
     "output_type": "stream",
     "text": [
      "1\n",
      "*\n",
      "2\n",
      "**\n",
      "3\n",
      "***\n",
      "4\n",
      "****\n",
      "5\n",
      "*****\n"
     ]
    }
   ],
   "source": [
    "# Print the following pattern\n",
    "'''\n",
    "1\n",
    "*\n",
    "2\n",
    "**\n",
    "3\n",
    "***\n",
    "4\n",
    "****\n",
    "5\n",
    "*****\n",
    "'''\n",
    "num = 5\n",
    "for row in range(1, num + 1):\n",
    "    print(row)\n",
    "    for col in range(1, row + 1):\n",
    "        print(\"*\", end = '')\n",
    "    print()"
   ]
  },
  {
   "cell_type": "code",
   "execution_count": 10,
   "id": "4f2cbf75",
   "metadata": {},
   "outputs": [
    {
     "name": "stdout",
     "output_type": "stream",
     "text": [
      "1 *\n",
      "2 ****\n",
      "3 *********\n",
      "4 ****************\n"
     ]
    }
   ],
   "source": [
    "# Print the following pattern\n",
    "'''\n",
    "2 ****\n",
    "3 *********\n",
    "4 ****---16\n",
    "'''\n",
    "num = 4\n",
    "for row in range(1, num + 1):\n",
    "    print(row, end = ' ')\n",
    "    for col in range(1, row ** 2 + 1):\n",
    "        print(\"*\", end = '')\n",
    "    print()"
   ]
  },
  {
   "cell_type": "code",
   "execution_count": 15,
   "id": "029cfec4",
   "metadata": {},
   "outputs": [
    {
     "data": {
      "text/plain": [
       "{12, 2, 'Hey', 'Python'}"
      ]
     },
     "execution_count": 15,
     "metadata": {},
     "output_type": "execute_result"
    }
   ],
   "source": [
    "# Implement following functions on set\n",
    "'''\n",
    "difference\n",
    "issubset\n",
    "isdisjoint\n",
    "isSuperset\n",
    "symmetric_differnce_update\n",
    "'''\n",
    "mySetA = set({2, 5, 12, 'Hey', 'Python', 23})\n",
    "type(mySetA)\n",
    "mySetB = set({'Good', 'Hi', 1, 5, 3, 'User', 23})\n",
    "type(mySetB)\n",
    "mySetA.difference(mySetB)"
   ]
  },
  {
   "cell_type": "code",
   "execution_count": 14,
   "id": "9574bdfc",
   "metadata": {},
   "outputs": [
    {
     "data": {
      "text/plain": [
       "False"
      ]
     },
     "execution_count": 14,
     "metadata": {},
     "output_type": "execute_result"
    }
   ],
   "source": [
    "mySetA = set({2, 5, 12, 'Hey', 'Python', 23})\n",
    "mySetB = set({'Good', 'Hi', 1, 5, 3, 'User', 23})\n",
    "mySetA.issubset(mySetB)"
   ]
  },
  {
   "cell_type": "code",
   "execution_count": 16,
   "id": "96c37ced",
   "metadata": {},
   "outputs": [
    {
     "data": {
      "text/plain": [
       "False"
      ]
     },
     "execution_count": 16,
     "metadata": {},
     "output_type": "execute_result"
    }
   ],
   "source": [
    "mySetA = set({2, 5, 12, 'Hey', 'Python', 23})\n",
    "mySetB = set({'Good', 'Hi', 1, 5, 3, 'User', 23})\n",
    "mySetA.isdisjoint(mySetB)"
   ]
  },
  {
   "cell_type": "code",
   "execution_count": 17,
   "id": "47059f9a",
   "metadata": {},
   "outputs": [
    {
     "data": {
      "text/plain": [
       "False"
      ]
     },
     "execution_count": 17,
     "metadata": {},
     "output_type": "execute_result"
    }
   ],
   "source": [
    "mySetA = set({2, 5, 12, 'Hey', 'Python', 23})\n",
    "mySetB = set({'Good', 'Hi', 1, 5, 3, 'User', 23})\n",
    "mySetA.issuperset(mySetB)"
   ]
  },
  {
   "cell_type": "code",
   "execution_count": 18,
   "id": "8343d5ae",
   "metadata": {},
   "outputs": [],
   "source": [
    "mySetA = set({2, 5, 12, 'Hey', 'Python', 23})\n",
    "mySetB = set({'Good', 'Hi', 1, 5, 3, 'User', 23})\n",
    "mySetA.symmetric_difference_update(mySetB)"
   ]
  },
  {
   "cell_type": "code",
   "execution_count": null,
   "id": "e0b98b90",
   "metadata": {},
   "outputs": [],
   "source": []
  }
 ],
 "metadata": {
  "kernelspec": {
   "display_name": "Python 3 (ipykernel)",
   "language": "python",
   "name": "python3"
  },
  "language_info": {
   "codemirror_mode": {
    "name": "ipython",
    "version": 3
   },
   "file_extension": ".py",
   "mimetype": "text/x-python",
   "name": "python",
   "nbconvert_exporter": "python",
   "pygments_lexer": "ipython3",
   "version": "3.10.9"
  }
 },
 "nbformat": 4,
 "nbformat_minor": 5
}
