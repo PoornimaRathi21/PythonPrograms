{
 "cells": [
  {
   "cell_type": "code",
   "execution_count": 2,
   "id": "e6bc0703",
   "metadata": {},
   "outputs": [
    {
     "data": {
      "text/plain": [
       "13"
      ]
     },
     "execution_count": 2,
     "metadata": {},
     "output_type": "execute_result"
    }
   ],
   "source": [
    "# Bitwise XOR -> ^\n",
    "# Applications - Swapping of two numbers\n",
    "10 ^ 7"
   ]
  },
  {
   "cell_type": "code",
   "execution_count": 8,
   "id": "1aa484c7",
   "metadata": {},
   "outputs": [
    {
     "name": "stdout",
     "output_type": "stream",
     "text": [
      "The number is greater than 18\n"
     ]
    }
   ],
   "source": [
    "# WAP to check if the number is greater than 18 then print number is greater than 18. If the number is b/w 24 and 30 then print the number is greater than 24 and less than 30 and if the number is 35 then print 35.\n",
    "num = 40\n",
    "if(num > 18):\n",
    "    if(num > 24 and num < 30):\n",
    "        print(\"The number is b/w 24 and 30\")\n",
    "    elif(num == 35):\n",
    "        print(\"The number is equal to\", num)\n",
    "    else:\n",
    "        print(\"The number is greater than 18\")"
   ]
  },
  {
   "cell_type": "code",
   "execution_count": 11,
   "id": "fc006b33",
   "metadata": {},
   "outputs": [
    {
     "name": "stdout",
     "output_type": "stream",
     "text": [
      "* * * * \n",
      "* * * \n",
      "* * \n",
      "* \n"
     ]
    }
   ],
   "source": [
    "# Print the following pattern\n",
    "'''\n",
    "* * * *\n",
    "* * *\n",
    "* *\n",
    "*\n",
    "'''\n",
    "for row in range(1, 5):\n",
    "    for column in range(4, row - 1, -1):\n",
    "        print(\"*\", end = \" \") \n",
    "    print()"
   ]
  },
  {
   "cell_type": "code",
   "execution_count": 15,
   "id": "b017d573",
   "metadata": {
    "scrolled": true
   },
   "outputs": [
    {
     "name": "stdout",
     "output_type": "stream",
     "text": [
      "1 \n",
      "1 2 \n",
      "1 2 3 \n",
      "1 2 3 4 \n"
     ]
    }
   ],
   "source": [
    "# Print the following pattern\n",
    "'''\n",
    "1\n",
    "1 2\n",
    "1 2 3\n",
    "1 2 3 4\n",
    "'''\n",
    "for row in range(1, 5):\n",
    "    for column in range(1, row + 1):\n",
    "        print(column, end = \" \")\n",
    "    print()"
   ]
  },
  {
   "cell_type": "code",
   "execution_count": 3,
   "id": "570e4c07",
   "metadata": {},
   "outputs": [
    {
     "name": "stdout",
     "output_type": "stream",
     "text": [
      "4321\n",
      " 321\n",
      "  21\n",
      "   1\n"
     ]
    }
   ],
   "source": [
    "# Print the following pattern\n",
    "'''\n",
    "4321\n",
    " 321\n",
    "  21\n",
    "   1\n",
    "'''\n",
    "for row in range(4, 0, -1):\n",
    "    for i in range(4, row, -1):\n",
    "        print(\" \", end = \"\")\n",
    "    for column in range(row, 0, -1):\n",
    "        print(column, end = \"\")\n",
    "    print()"
   ]
  },
  {
   "cell_type": "code",
   "execution_count": 69,
   "id": "a7fdace8",
   "metadata": {},
   "outputs": [
    {
     "name": "stdout",
     "output_type": "stream",
     "text": [
      "1 \n",
      "2 3 \n",
      "4 5 6 \n",
      "7 8 9 10 \n"
     ]
    }
   ],
   "source": [
    "# Print the following pattern\n",
    "'''\n",
    "1\n",
    "2 3\n",
    "4 5 6\n",
    "7 8 9 10\n",
    "'''\n",
    "num = 1\n",
    "for row in range(1, 5):\n",
    "    for column in range(1, row + 1):\n",
    "        print(num, end = \" \")\n",
    "        num += 1\n",
    "    print()"
   ]
  },
  {
   "cell_type": "code",
   "execution_count": 4,
   "id": "57c902df",
   "metadata": {},
   "outputs": [
    {
     "name": "stdout",
     "output_type": "stream",
     "text": [
      "2\n",
      "3\n",
      "5\n",
      "7\n",
      "11\n",
      "13\n",
      "17\n",
      "19\n",
      "23\n",
      "29\n",
      "31\n",
      "37\n",
      "41\n",
      "43\n",
      "47\n",
      "53\n",
      "59\n",
      "61\n",
      "67\n",
      "71\n",
      "73\n",
      "79\n",
      "83\n",
      "89\n",
      "97\n"
     ]
    }
   ],
   "source": [
    "# Print all the prime numbers from 1 to 100.\n",
    "for num in range(1, 101):\n",
    "    if(num > 1):\n",
    "        for index in range(2, num):\n",
    "            if(num % index == 0):\n",
    "                break\n",
    "        else:\n",
    "            print(num)"
   ]
  },
  {
   "cell_type": "code",
   "execution_count": null,
   "id": "4bc5e8ba",
   "metadata": {},
   "outputs": [],
   "source": []
  }
 ],
 "metadata": {
  "kernelspec": {
   "display_name": "Python 3 (ipykernel)",
   "language": "python",
   "name": "python3"
  },
  "language_info": {
   "codemirror_mode": {
    "name": "ipython",
    "version": 3
   },
   "file_extension": ".py",
   "mimetype": "text/x-python",
   "name": "python",
   "nbconvert_exporter": "python",
   "pygments_lexer": "ipython3",
   "version": "3.10.9"
  }
 },
 "nbformat": 4,
 "nbformat_minor": 5
}
